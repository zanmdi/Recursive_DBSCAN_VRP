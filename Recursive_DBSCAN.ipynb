{
 "cells": [
  {
   "cell_type": "markdown",
   "id": "47d04e5d",
   "metadata": {},
   "source": [
    "# DBSCAN Clustering"
   ]
  },
  {
   "cell_type": "markdown",
   "id": "241bdf74",
   "metadata": {},
   "source": [
    "Read the dataset"
   ]
  },
  {
   "cell_type": "code",
   "execution_count": 1,
   "id": "aeb8976c",
   "metadata": {},
   "outputs": [],
   "source": [
    "# Import Related Libraries\n",
    "import pandas as pd\n",
    "import numpy as np\n",
    "from sklearn.datasets import make_moons\n",
    "import matplotlib.pyplot as plt\n",
    "from sklearn.cluster import DBSCAN"
   ]
  },
  {
   "cell_type": "code",
   "execution_count": 2,
   "id": "aa8306c8",
   "metadata": {},
   "outputs": [],
   "source": [
    "# Load the datset of customers which is saved as csv file\n",
    "df = pd.read_csv('input.csv')"
   ]
  },
  {
   "cell_type": "code",
   "execution_count": 4,
   "id": "69e23bee",
   "metadata": {},
   "outputs": [
    {
     "data": {
      "text/html": [
       "<div>\n",
       "<style scoped>\n",
       "    .dataframe tbody tr th:only-of-type {\n",
       "        vertical-align: middle;\n",
       "    }\n",
       "\n",
       "    .dataframe tbody tr th {\n",
       "        vertical-align: top;\n",
       "    }\n",
       "\n",
       "    .dataframe thead th {\n",
       "        text-align: right;\n",
       "    }\n",
       "</style>\n",
       "<table border=\"1\" class=\"dataframe\">\n",
       "  <thead>\n",
       "    <tr style=\"text-align: right;\">\n",
       "      <th></th>\n",
       "      <th>CUST NO.</th>\n",
       "      <th>XCOORD.</th>\n",
       "      <th>YCOORD.</th>\n",
       "      <th>DEMAND</th>\n",
       "      <th>READY TIME</th>\n",
       "      <th>DUE DATE</th>\n",
       "      <th>SERVICE   TIME</th>\n",
       "    </tr>\n",
       "  </thead>\n",
       "  <tbody>\n",
       "    <tr>\n",
       "      <th>0</th>\n",
       "      <td>0</td>\n",
       "      <td>150.910143</td>\n",
       "      <td>-33.845746</td>\n",
       "      <td>0</td>\n",
       "      <td>28800</td>\n",
       "      <td>64800</td>\n",
       "      <td>0</td>\n",
       "    </tr>\n",
       "    <tr>\n",
       "      <th>1</th>\n",
       "      <td>1</td>\n",
       "      <td>151.197595</td>\n",
       "      <td>-33.804489</td>\n",
       "      <td>1</td>\n",
       "      <td>25200</td>\n",
       "      <td>64800</td>\n",
       "      <td>120</td>\n",
       "    </tr>\n",
       "    <tr>\n",
       "      <th>2</th>\n",
       "      <td>2</td>\n",
       "      <td>151.119056</td>\n",
       "      <td>-33.888105</td>\n",
       "      <td>1</td>\n",
       "      <td>28800</td>\n",
       "      <td>61200</td>\n",
       "      <td>120</td>\n",
       "    </tr>\n",
       "    <tr>\n",
       "      <th>3</th>\n",
       "      <td>3</td>\n",
       "      <td>151.180418</td>\n",
       "      <td>-33.786714</td>\n",
       "      <td>1</td>\n",
       "      <td>28800</td>\n",
       "      <td>61200</td>\n",
       "      <td>120</td>\n",
       "    </tr>\n",
       "    <tr>\n",
       "      <th>4</th>\n",
       "      <td>4</td>\n",
       "      <td>151.224832</td>\n",
       "      <td>-33.871666</td>\n",
       "      <td>1</td>\n",
       "      <td>28800</td>\n",
       "      <td>64800</td>\n",
       "      <td>120</td>\n",
       "    </tr>\n",
       "  </tbody>\n",
       "</table>\n",
       "</div>"
      ],
      "text/plain": [
       "   CUST NO.     XCOORD.    YCOORD.  DEMAND  READY TIME  DUE DATE  \\\n",
       "0         0  150.910143 -33.845746       0       28800     64800   \n",
       "1         1  151.197595 -33.804489       1       25200     64800   \n",
       "2         2  151.119056 -33.888105       1       28800     61200   \n",
       "3         3  151.180418 -33.786714       1       28800     61200   \n",
       "4         4  151.224832 -33.871666       1       28800     64800   \n",
       "\n",
       "   SERVICE   TIME  \n",
       "0               0  \n",
       "1             120  \n",
       "2             120  \n",
       "3             120  \n",
       "4             120  "
      ]
     },
     "execution_count": 4,
     "metadata": {},
     "output_type": "execute_result"
    }
   ],
   "source": [
    "df.head()"
   ]
  },
  {
   "cell_type": "code",
   "execution_count": 5,
   "id": "bed6f1e3",
   "metadata": {},
   "outputs": [],
   "source": [
    "# Exclude Depot\n",
    "df = df.drop([0])\n",
    "df = df.reset_index()\n",
    "del df['index']"
   ]
  },
  {
   "cell_type": "code",
   "execution_count": 6,
   "id": "318f8215",
   "metadata": {},
   "outputs": [
    {
     "name": "stdout",
     "output_type": "stream",
     "text": [
      "3567\n"
     ]
    }
   ],
   "source": [
    "# Check Number of Customers\n",
    "print(len(df))"
   ]
  },
  {
   "cell_type": "code",
   "execution_count": 7,
   "id": "892ebaa4",
   "metadata": {},
   "outputs": [],
   "source": [
    "# Conver latitude and Longitude of customers to array\n",
    "coords = df[['YCOORD.', 'XCOORD.']].to_numpy()"
   ]
  },
  {
   "cell_type": "code",
   "execution_count": 8,
   "id": "95aa9eab",
   "metadata": {},
   "outputs": [],
   "source": [
    "# Inorder to start the labels from 1 \n",
    "# labels in DBSCAN starts from -1 which is cluster of outliers\n",
    "def normalize_cluster_labels(labels):\n",
    "    min_value = min(labels)\n",
    "    if (min_value < 0):\n",
    "         labels = labels + 1\n",
    "    return labels"
   ]
  },
  {
   "cell_type": "markdown",
   "id": "c9a6a4b1",
   "metadata": {},
   "source": [
    "Inputs of the models"
   ]
  },
  {
   "cell_type": "code",
   "execution_count": 9,
   "id": "88832b6c",
   "metadata": {},
   "outputs": [],
   "source": [
    "# Maximum number of customers in each cluster\n",
    "max_cluster_size_const = 125\n",
    "# Minimum number of customers in each cluster\n",
    "min_cluster_size_const = 65"
   ]
  },
  {
   "cell_type": "markdown",
   "id": "9b390b7c",
   "metadata": {},
   "source": [
    "DBSCAN Algorithm"
   ]
  },
  {
   "cell_type": "code",
   "execution_count": 10,
   "id": "274c7b43",
   "metadata": {},
   "outputs": [],
   "source": [
    "km_per_radian = 6371.0088 #km/rad\n",
    "\n",
    "def DBSCAN_AL_simple(coords, eps):\n",
    "    global clusters\n",
    "    km_per_radian = 6371.0088 #km/rad\n",
    "    db = DBSCAN(eps=eps/(km_per_radian*10), min_samples=min_cluster_size_const, algorithm='ball_tree', metric='haversine').fit(np.radians(coords))\n",
    "    cluster_labels = db.labels_\n",
    "    cluster_labels_nn = normalize_cluster_labels(cluster_labels)\n",
    "    num_clusters = len(set(cluster_labels_nn))\n",
    "    clusters = pd.Series([coords[cluster_labels_nn == n] for n in range(num_clusters)])\n",
    "    return clusters"
   ]
  },
  {
   "cell_type": "markdown",
   "id": "12fe49d9",
   "metadata": {},
   "source": [
    "Find the best Epsilon for DBSCAN"
   ]
  },
  {
   "cell_type": "code",
   "execution_count": 11,
   "id": "114f4c20",
   "metadata": {},
   "outputs": [],
   "source": [
    "# This function calculates distance between two gps points\n",
    "\n",
    "import math\n",
    "\n",
    "def haversine(coord1, coord2):\n",
    "    R =6371.0088  # Earth radius in km\n",
    "    lat1, lon1 = coord1\n",
    "    lat2, lon2 = coord2\n",
    "    \n",
    "    phi1, phi2 = math.radians(lat1), math.radians(lat2) \n",
    "    dphi       = math.radians(lat2 - lat1)\n",
    "    dlambda    = math.radians(lon2 - lon1)\n",
    "    \n",
    "    a = math.sin(dphi/2)**2 + \\\n",
    "        math.cos(phi1)*math.cos(phi2)*math.sin(dlambda/2)**2\n",
    "    \n",
    "    return 2*R*math.atan2(math.sqrt(a), math.sqrt(1 - a))"
   ]
  },
  {
   "cell_type": "code",
   "execution_count": 12,
   "id": "16f13d52",
   "metadata": {},
   "outputs": [],
   "source": [
    "c_list = df['CUST NO.'].tolist() # list of customers inorder to add them as the key of dictionary\n",
    "\n",
    "# Make a dictionary of customers' location (lat & lon)\n",
    "customerloc ={}\n",
    "\n",
    "for j in c_list:\n",
    "    customerloc[j] = (df.iloc[c_list.index(j), 2] , df.iloc[c_list.index(j), 1])\n"
   ]
  },
  {
   "cell_type": "code",
   "execution_count": 13,
   "id": "3fdf5fb2",
   "metadata": {},
   "outputs": [],
   "source": [
    "# Create distance Matrix\n",
    "\n",
    "matrix = []\n",
    "\n",
    "for i in range(len(list(customerloc.values()))):\n",
    "    # Append an empty sublist inside the list\n",
    "    matrix.append([])\n",
    "    \n",
    "    m = list(customerloc.values())[i][0], list(customerloc.values())[i][1]\n",
    "    \n",
    "    for c_id, coord in customerloc.items():\n",
    "        distance = haversine(m , coord)\n",
    "        matrix[i].append(distance)    "
   ]
  },
  {
   "cell_type": "code",
   "execution_count": 14,
   "id": "296ed0bc",
   "metadata": {},
   "outputs": [],
   "source": [
    "max_lst = []\n",
    "min_lst = []\n",
    "\n",
    "\n",
    "# Find the second smallest value of a list as the smallest is 0 (distance between the point and itself) in distance matrix\n",
    "\n",
    "def find_2nd_max(lst):\n",
    "    lst = [x for x in lst if x != 0.0]\n",
    "    return min(lst)\n",
    "\n",
    "\n",
    "# This loop finds the max and min value in each row of distance matrix\n",
    "\n",
    "for i in range(len(matrix)):\n",
    "    max_lst.append(max(matrix[i]))\n",
    "    min_lst.append(find_2nd_max(matrix[i]))\n",
    "\n",
    "# Find the min and max value of whole gps points\n",
    "\n",
    "max_dist = max(max_lst)\n",
    "min_dist = min(min_lst)\n",
    "\n",
    "    "
   ]
  },
  {
   "cell_type": "code",
   "execution_count": 15,
   "id": "626e99aa",
   "metadata": {},
   "outputs": [],
   "source": [
    "# Converting min_dist to an integers number\n",
    "# This requires to be multiplied by the number of decimal values in min distance\n",
    "\n",
    "# No. of zeros required\n",
    "n = len(str(min_dist))\n",
    "\n",
    "# using ljust() adding trailing zero\n",
    "str_ = '1'\n",
    "output = str_.ljust(n + len(str_), '0')\n",
    "output = int(output)\n",
    "\n",
    "# Finding the best radius trough loop in which clusters are made according to different epsilon \n",
    "# between min and max ditsnce\n",
    "# the computational time for this processing is really high but it is the most accurate way to get the clusters\n",
    "def best_radius_time_limit(coords):\n",
    "    global bestradius\n",
    "    radius_lst = []\n",
    "    for i in range (int(min_dist*output), int(max_dist*output)):\n",
    "        D = DBSCAN_AL_simple(coords, i/output)\n",
    "        radius_lst.append(len(D))\n",
    "        \n",
    "    bestradius = radius_lst.index(max(radius_lst))\n",
    "    return bestradius"
   ]
  },
  {
   "cell_type": "code",
   "execution_count": 16,
   "id": "aa7dea5e",
   "metadata": {},
   "outputs": [],
   "source": [
    "# As the eps must be possitive as input of the DBSCAN we try to test eps between 1 and roundup of the max distance\n",
    "# This takes time as well but worths to be used rather than previous one \n",
    "\n",
    "def best_radius(coords):\n",
    "    global bestradius\n",
    "    radius_lst = []\n",
    "    for i in range (1, round(max_dist)):\n",
    "        D = DBSCAN_AL_simple(coords, i)\n",
    "        radius_lst.append(len(D))\n",
    "        \n",
    "    bestradius = radius_lst.index(max(radius_lst))+1\n",
    "    return bestradius"
   ]
  },
  {
   "cell_type": "markdown",
   "id": "79361ab6",
   "metadata": {},
   "source": [
    "Generate Initial Solution"
   ]
  },
  {
   "cell_type": "code",
   "execution_count": 17,
   "id": "37cf68c0",
   "metadata": {},
   "outputs": [],
   "source": [
    "# Generate Initial Solution for the recursive algorithm\n",
    "# We generate clusters for the first run\n",
    "D = DBSCAN_AL_simple(coords, best_radius(coords))"
   ]
  },
  {
   "cell_type": "markdown",
   "id": "fa2fbd78",
   "metadata": {},
   "source": [
    "Recursive_DBSCAN"
   ]
  },
  {
   "cell_type": "code",
   "execution_count": 19,
   "id": "ea0a5e4c",
   "metadata": {},
   "outputs": [],
   "source": [
    "done = [] # create a list in which all accpted clusters will be stored\n",
    "nonempty = D # make a series in which in each itteration we store the new clusters and remove previuos clusters"
   ]
  },
  {
   "cell_type": "code",
   "execution_count": 20,
   "id": "30e5c409",
   "metadata": {
    "scrolled": true
   },
   "outputs": [
    {
     "name": "stdout",
     "output_type": "stream",
     "text": [
      "size of first nonempty 4\n",
      "size of G 2705\n",
      "size of G 322\n",
      "size of G 79\n",
      "size of G 144\n",
      "size of G 82\n",
      "size of nonempty_after 8\n",
      "size of first nonempty 5\n",
      "size of G 1907\n",
      "size of G 262\n",
      "size of G 134\n",
      "size of G 186\n",
      "size of G 144\n",
      "size of G 72\n",
      "size of nonempty_after 10\n",
      "size of G 138\n",
      "size of G 112\n",
      "size of G 72\n",
      "size of nonempty_after 12\n",
      "size of G 78\n",
      "size of G 66\n",
      "size of nonempty_after 12\n",
      "size of first nonempty 11\n",
      "size of G 1142\n",
      "size of G 347\n",
      "size of G 91\n",
      "size of G 145\n",
      "size of G 139\n",
      "size of G 43\n",
      "size of nonempty_after 16\n",
      "size of G 169\n",
      "size of G 93\n",
      "size of nonempty_after 17\n",
      "size of G 67\n",
      "size of G 67\n",
      "size of nonempty_after 18\n",
      "size of G 106\n",
      "size of G 80\n",
      "size of nonempty_after 19\n",
      "size of G 69\n",
      "size of G 75\n",
      "size of nonempty_after 20\n",
      "size of G 73\n",
      "size of G 65\n",
      "size of nonempty_after 20\n",
      "size of first nonempty 16\n",
      "size of G 159\n",
      "size of G 775\n",
      "size of G 101\n",
      "size of G 56\n",
      "size of G 51\n",
      "size of nonempty_after 20\n",
      "size of G 189\n",
      "size of G 65\n",
      "size of G 62\n",
      "size of G 31\n",
      "size of nonempty_after 23\n",
      "size of G 74\n",
      "size of G 71\n",
      "size of nonempty_after 23\n",
      "size of G 68\n",
      "size of G 71\n",
      "size of nonempty_after 24\n",
      "size of G 89\n",
      "size of G 80\n",
      "size of nonempty_after 24\n",
      "size of first nonempty 15\n",
      "size of G 94\n",
      "size of G 65\n",
      "size of nonempty_after 16\n",
      "size of G 231\n",
      "size of G 194\n",
      "size of G 289\n",
      "size of G 61\n",
      "size of nonempty_after 19\n",
      "size of G 124\n",
      "size of G 65\n",
      "size of nonempty_after 17\n",
      "size of first nonempty 8\n",
      "size of G 99\n",
      "size of G 67\n",
      "size of G 65\n",
      "size of nonempty_after 8\n",
      "size of G 128\n",
      "size of G 66\n",
      "size of nonempty_after 9\n",
      "size of G 207\n",
      "size of G 82\n",
      "size of nonempty_after 10\n",
      "size of first nonempty 7\n",
      "size of G 63\n",
      "size of G 65\n",
      "size of nonempty_after 5\n",
      "size of G 87\n",
      "size of G 120\n",
      "size of nonempty_after 5\n",
      "size of first nonempty 4\n"
     ]
    }
   ],
   "source": [
    "while len(nonempty):   # while there is no clusters needed to be re-cluster (all clusters all accepted)\n",
    "    print(\"size of first nonempty\", len(nonempty))\n",
    "    for i in nonempty:\n",
    "        if len(i)> max_cluster_size_const:\n",
    "            nonempty = nonempty.drop(list(nonempty).index(i))\n",
    "            nonempty = nonempty.reset_index(drop=True)\n",
    "            G =  DBSCAN_AL_simple(i, best_radius(i))\n",
    "            \n",
    "            # There are some clusters that won't be reculstered due to the eps limitation mentioned before\n",
    "            # We count this points as outlier which will be handled in next part\n",
    "            if (len(G)) != 1:\n",
    "                for g in G:\n",
    "                    print(\"size of G\", len(g))\n",
    "                nonempty = pd.concat([nonempty, G], ignore_index = True)\n",
    "                print(\"size of nonempty_after\", len(nonempty))\n",
    "                \n",
    "            else:\n",
    "                done.append(i)\n",
    "\n",
    "                \n",
    "        else:\n",
    "            done.append(i)\n",
    "            nonempty = nonempty.drop(list(nonempty).index(i))\n",
    "            nonempty = nonempty.reset_index(drop=True)"
   ]
  },
  {
   "cell_type": "code",
   "execution_count": 21,
   "id": "612aa278",
   "metadata": {},
   "outputs": [
    {
     "name": "stdout",
     "output_type": "stream",
     "text": [
      "3567\n",
      "True\n"
     ]
    }
   ],
   "source": [
    "# Check wether all the points are clustered\n",
    "\n",
    "sumation = 0\n",
    "for i in range(len(done)):\n",
    "    sumation += len(done[i])\n",
    "\n",
    "\n",
    "print(sumation)\n",
    "print(sumation == len(df))"
   ]
  },
  {
   "cell_type": "code",
   "execution_count": 22,
   "id": "135d3bde",
   "metadata": {},
   "outputs": [],
   "source": [
    "# Check the number of points in each cluster\n",
    "\n",
    "lst_len_clusters = []\n",
    "for i in range(len(done)):\n",
    "    lst_len_clusters.append(len(done[i]))"
   ]
  },
  {
   "cell_type": "code",
   "execution_count": 23,
   "id": "d567ec0e",
   "metadata": {},
   "outputs": [
    {
     "name": "stdout",
     "output_type": "stream",
     "text": [
      "[104, 66, 65, 79, 82, 72, 112, 72, 78, 66, 91, 43, 93, 67, 67, 106, 80, 69, 75, 73, 65, 101, 56, 51, 65, 62, 31, 74, 71, 68, 71, 89, 80, 94, 65, 61, 124, 65, 99, 67, 65, 66, 82, 63, 65, 87, 120]\n"
     ]
    }
   ],
   "source": [
    "print(lst_len_clusters)"
   ]
  },
  {
   "cell_type": "code",
   "execution_count": 24,
   "id": "3c509a03",
   "metadata": {},
   "outputs": [],
   "source": [
    "# As can be seen there are some clusters that the number of point is less than lower bound and there are some clusters \n",
    "# the number of point in them is greater than upper bound.\n",
    "# all points in these clusters are counted as outliers, so it's time to handle them."
   ]
  },
  {
   "cell_type": "markdown",
   "id": "aa95dbb9",
   "metadata": {},
   "source": [
    "Handling Outliers"
   ]
  },
  {
   "cell_type": "code",
   "execution_count": 25,
   "id": "bb868184",
   "metadata": {},
   "outputs": [],
   "source": [
    "# For handling outliers we first make a dataset out of our final_results"
   ]
  },
  {
   "cell_type": "code",
   "execution_count": 26,
   "id": "dec7c535",
   "metadata": {},
   "outputs": [],
   "source": [
    "# Make dataset for each cluster\n",
    "# This makes dataframe in loop\n",
    "d = {}\n",
    "for name in range(len(done)):\n",
    "    d[name] = pd.DataFrame(done[name])"
   ]
  },
  {
   "cell_type": "code",
   "execution_count": 27,
   "id": "aad1359a",
   "metadata": {},
   "outputs": [],
   "source": [
    "# Change the column name\n",
    "# Add cluster_ID as a new column to our dataframe\n",
    "for i in range(len(d)):\n",
    "    d[i].columns = ['y_coord', 'x_coord']\n",
    "    d[i]['cluster_id'] = list(d.keys())[i]"
   ]
  },
  {
   "cell_type": "code",
   "execution_count": 28,
   "id": "4b84bfa7",
   "metadata": {},
   "outputs": [],
   "source": [
    "# Concatanate (join vertically) the dataframes\n",
    "\n",
    "final_results = pd.DataFrame()\n",
    "i = 0\n",
    "\n",
    "while i < len(d):\n",
    "    final_results = pd.concat([final_results, d[i]], ignore_index=True)\n",
    "    i += 1"
   ]
  },
  {
   "cell_type": "code",
   "execution_count": 30,
   "id": "7014641c",
   "metadata": {},
   "outputs": [
    {
     "data": {
      "text/plain": [
       "<matplotlib.collections.PathCollection at 0x28c391a50>"
      ]
     },
     "execution_count": 30,
     "metadata": {},
     "output_type": "execute_result"
    },
    {
     "data": {
      "image/png": "[encoded data removed]",
      "text/plain": [
       "<Figure size 640x480 with 1 Axes>"
      ]
     },
     "metadata": {},
     "output_type": "display_data"
    }
   ],
   "source": [
    "# See the Clusters on the map\n",
    "plt.scatter(final_results['x_coord'], final_results['y_coord'],c=final_results['cluster_id'], cmap=plt.cm.hsv)"
   ]
  },
  {
   "cell_type": "code",
   "execution_count": 31,
   "id": "1208b610",
   "metadata": {},
   "outputs": [],
   "source": [
    "#As they maybe some identical value in the list, their index(cluster_ID) reamins same if we use .index() \n",
    "#so this function is defined this function\n",
    "\n",
    "def indices( mylist, value):\n",
    "    return [i for i,x in enumerate(mylist) if x==value]"
   ]
  },
  {
   "cell_type": "code",
   "execution_count": 32,
   "id": "b64bac98",
   "metadata": {},
   "outputs": [],
   "source": [
    "# find the cluster ID of outputs counted as outlier\n",
    "\n",
    "Outlierts_cluster_ID = []\n",
    "for i in lst_len_clusters:\n",
    "    if i > max_cluster_size_const or i < min_cluster_size_const:\n",
    "        Outlierts_cluster_ID.append(indices( lst_len_clusters, i))\n",
    "        \n",
    "# The output of above loop is list of list so we flatten it        \n",
    "Outlierts_cluster_ID_flt = [item for sublist in Outlierts_cluster_ID for item in sublist]"
   ]
  },
  {
   "cell_type": "code",
   "execution_count": 33,
   "id": "d1d1864b",
   "metadata": {},
   "outputs": [
    {
     "data": {
      "text/plain": [
       "[11, 22, 23, 25, 26, 35, 43]"
      ]
     },
     "execution_count": 33,
     "metadata": {},
     "output_type": "execute_result"
    }
   ],
   "source": [
    "# These clusters are not accpeted\n",
    "\n",
    "Outlierts_cluster_ID_flt"
   ]
  },
  {
   "cell_type": "code",
   "execution_count": 34,
   "id": "996677a5",
   "metadata": {},
   "outputs": [],
   "source": [
    "# We exclude these clusters from our datset\n",
    "final_results_without_outlier = final_results.copy()\n",
    "for i in Outlierts_cluster_ID_flt:\n",
    "    final_results_without_outlier = final_results_without_outlier[final_results_without_outlier.cluster_id != i]"
   ]
  },
  {
   "cell_type": "code",
   "execution_count": 35,
   "id": "4b29e6ae",
   "metadata": {},
   "outputs": [],
   "source": [
    "# We create a datset of outliers\n",
    "\n",
    "final_results_outlier = final_results.loc[final_results['cluster_id'].isin(Outlierts_cluster_ID_flt)]  "
   ]
  },
  {
   "cell_type": "markdown",
   "id": "a7fecc09",
   "metadata": {},
   "source": [
    "# For outliers detected by our instinct"
   ]
  },
  {
   "cell_type": "code",
   "execution_count": 37,
   "id": "d3d8d1cf",
   "metadata": {},
   "outputs": [],
   "source": [
    "# We claclulate the average distance of every customer in a cluster from their own clusters\n",
    "\n",
    "#claculate cluster center\n",
    "centers = final_results.groupby(['cluster_id']).mean()\n",
    "centers = centers.reset_index()\n",
    "\n",
    "# Retrive unique cluster IDs\n",
    "cluster_ids = list(set(final_results['cluster_id'].tolist()))\n",
    "\n",
    "# make dictionary of clusters and their points\n",
    "points_in_cluster = {}\n",
    "for i in cluster_ids:\n",
    "    points_in_cluster[i] = final_results[final_results['cluster_id'] == i]"
   ]
  },
  {
   "cell_type": "code",
   "execution_count": 38,
   "id": "3a101943",
   "metadata": {},
   "outputs": [],
   "source": [
    "#This function calculates distance between two gps points\n",
    "\n",
    "def haversine(coord1, coord2):\n",
    "    R =6371.0088  # Earth radius in km\n",
    "    lat1, lon1 = coord1\n",
    "    lat2, lon2 = coord2\n",
    "    \n",
    "    phi1, phi2 = math.radians(lat1), math.radians(lat2) \n",
    "    dphi       = math.radians(lat2 - lat1)\n",
    "    dlambda    = math.radians(lon2 - lon1)\n",
    "    \n",
    "    a = math.sin(dphi/2)**2 + \\\n",
    "        math.cos(phi1)*math.cos(phi2)*math.sin(dlambda/2)**2\n",
    "    \n",
    "    return 2*R*math.atan2(math.sqrt(a), math.sqrt(1 - a))\n"
   ]
  },
  {
   "cell_type": "code",
   "execution_count": 39,
   "id": "33eb9beb",
   "metadata": {},
   "outputs": [],
   "source": [
    "# Caculate the distance between each point and their own cluster center cluster\n",
    "\n",
    "def distance_to_cluster(cluster_center_x_y, dic):\n",
    "    distance_to_cl= []\n",
    "    for outliers, coord in dic.items():\n",
    "        distance = haversine(cluster_center_x_y , coord)\n",
    "        distance_to_cl.append(distance)\n",
    "        \n",
    "    return distance_to_cl"
   ]
  },
  {
   "cell_type": "code",
   "execution_count": 40,
   "id": "61e59773",
   "metadata": {},
   "outputs": [],
   "source": [
    "# save Calculation\n",
    "av_dist = {}\n",
    "for i in cluster_ids:\n",
    "    dic = {}\n",
    "    points_in_cluster[i] = points_in_cluster[i].reset_index()\n",
    "    for j in range(len(points_in_cluster[i])):\n",
    "        dic[j] = (points_in_cluster[i].iloc[j,2], points_in_cluster[i].iloc[j,1])\n",
    "\n",
    "    distance_in_cluster = [] \n",
    "\n",
    "    cluster_center_x_y = centers.iloc[cluster_ids.index(i), 2], centers.iloc[cluster_ids.index(i), 1]\n",
    "    distance_in_cluster.append(distance_to_cluster(cluster_center_x_y, dic))\n",
    "    #print(distance_in_cluster)\n",
    "    av_dist[i] = sum(distance_in_cluster[0])/len(points_in_cluster[0])"
   ]
  },
  {
   "cell_type": "code",
   "execution_count": 41,
   "id": "e007dbd2",
   "metadata": {},
   "outputs": [],
   "source": [
    "inst_outlier_cls = []\n",
    "\n",
    "for i in list(av_dist.keys()):\n",
    "    if av_dist[i] > 15:\n",
    "        inst_outlier_cls.append(i)  "
   ]
  },
  {
   "cell_type": "code",
   "execution_count": 42,
   "id": "bfcf8561",
   "metadata": {},
   "outputs": [
    {
     "data": {
      "text/plain": [
       "[33, 38]"
      ]
     },
     "execution_count": 42,
     "metadata": {},
     "output_type": "execute_result"
    }
   ],
   "source": [
    "inst_outlier_cls"
   ]
  },
  {
   "cell_type": "code",
   "execution_count": 43,
   "id": "f6b27683",
   "metadata": {},
   "outputs": [
    {
     "data": {
      "text/plain": [
       "Text(0, 0.5, 'Y Coordinate')"
      ]
     },
     "execution_count": 43,
     "metadata": {},
     "output_type": "execute_result"
    },
    {
     "data": {
      "image/png": "[encoded data removed]",
      "text/plain": [
       "<Figure size 640x480 with 1 Axes>"
      ]
     },
     "metadata": {},
     "output_type": "display_data"
    }
   ],
   "source": [
    "# Check cluster of Outliers\n",
    "\n",
    "# make datasets of outliers\n",
    "outlier_df = {}\n",
    "# colors\n",
    "clr = ['Accent', 'Accent_r', 'Blues', 'Blues_r', 'BrBG', 'BrBG_r', 'BuGn', 'BuGn_r', 'BuPu', 'BuPu_r', 'CMRmap', 'CMRmap_r', \n",
    "       'Dark2', 'Dark2_r', 'GnBu', 'GnBu_r', 'Greens', 'Greens_r', 'Greys', 'Greys_r', 'OrRd', 'OrRd_r', 'Oranges', 'Oranges_r',\n",
    "       'PRGn', 'PRGn_r', 'Paired', 'Paired_r', 'Pastel1', 'Pastel1_r', 'Pastel2', 'Pastel2_r', 'PiYG', 'PiYG_r', 'PuBu', \n",
    "       'PuBuGn', 'PuBuGn_r', 'PuBu_r', 'PuOr', 'PuOr_r', 'PuRd', 'PuRd_r', 'Purples', 'Purples_r', 'RdBu', 'RdBu_r', 'RdGy',\n",
    "       'RdGy_r', 'RdPu', 'RdPu_r', 'RdYlBu', 'RdYlBu_r']\n",
    "for i, j in zip(inst_outlier_cls, clr):\n",
    "    outlier_df[i] = final_results[final_results['cluster_id']==i]\n",
    "    plt.scatter(outlier_df[i]['x_coord'], outlier_df[i]['y_coord'],c=outlier_df[i]['cluster_id'], cmap=j)\n",
    "\n",
    "plt.xlabel('X Coordinate')\n",
    "plt.ylabel('Y Coordinate')"
   ]
  },
  {
   "cell_type": "code",
   "execution_count": 44,
   "id": "9648fceb",
   "metadata": {},
   "outputs": [],
   "source": [
    "for i in inst_outlier_cls:\n",
    "    final_results_outlier = pd.concat([final_results_outlier, outlier_df[i]])"
   ]
  },
  {
   "cell_type": "code",
   "execution_count": 45,
   "id": "16fde29b",
   "metadata": {},
   "outputs": [],
   "source": [
    "for i in inst_outlier_cls:\n",
    "    final_results_without_outlier = final_results_without_outlier[final_results_without_outlier['cluster_id']!= 33]"
   ]
  },
  {
   "cell_type": "markdown",
   "id": "9d1bfc0a",
   "metadata": {},
   "source": [
    "# Till here"
   ]
  },
  {
   "cell_type": "code",
   "execution_count": 46,
   "id": "adcd0f8f",
   "metadata": {},
   "outputs": [
    {
     "name": "stdout",
     "output_type": "stream",
     "text": [
      "Total number of outliers, is: 560\n"
     ]
    }
   ],
   "source": [
    "print ('Total number of outliers, is:', len(final_results_outlier))\n",
    "\n",
    "final_results_outlier = final_results_outlier.reset_index()"
   ]
  },
  {
   "cell_type": "code",
   "execution_count": 47,
   "id": "4f12be77",
   "metadata": {},
   "outputs": [],
   "source": [
    "# We caclulate the center of each cluster, by clculating the average of x and y coordinate\n",
    "\n",
    "clusers_center = final_results_without_outlier.groupby(['cluster_id']).mean()"
   ]
  },
  {
   "cell_type": "code",
   "execution_count": 48,
   "id": "5cdd82c8",
   "metadata": {},
   "outputs": [],
   "source": [
    "# the index is kept as cluster ID\n",
    "\n",
    "clusers_center = clusers_center.reset_index()"
   ]
  },
  {
   "cell_type": "code",
   "execution_count": 49,
   "id": "adbe9a46",
   "metadata": {},
   "outputs": [],
   "source": [
    "c_list = final_results_outlier['index'].tolist()"
   ]
  },
  {
   "cell_type": "code",
   "execution_count": 50,
   "id": "fed3d637",
   "metadata": {},
   "outputs": [],
   "source": [
    "#make a dictionary of outliers\n",
    "\n",
    "outlier ={}\n",
    "\n",
    "for j in c_list:\n",
    "    outlier[j] = (final_results_outlier.iloc[c_list.index(j), 1] , final_results_outlier.iloc[c_list.index(j), 2])"
   ]
  },
  {
   "cell_type": "code",
   "execution_count": 51,
   "id": "1438394b",
   "metadata": {},
   "outputs": [],
   "source": [
    "# Caculate the distance between each point and each cluster\n",
    "\n",
    "def distance_to_cluster(cluster_center_x_y):\n",
    "    distance_to_cl= []\n",
    "    for outliers, coord in outlier.items():\n",
    "        distance = haversine(cluster_center_x_y , coord)\n",
    "        distance_to_cl.append(distance)\n",
    "        \n",
    "    return distance_to_cl"
   ]
  },
  {
   "cell_type": "code",
   "execution_count": 52,
   "id": "f35bc23c",
   "metadata": {},
   "outputs": [],
   "source": [
    "lst_of_distance_from_cluster = []\n",
    "\n",
    "for i in range(len(clusers_center)):\n",
    "    cluster_center_x_y = clusers_center.iloc[i, 1], clusers_center.iloc[i, 2]\n",
    "    lst_of_distance_from_cluster.append(distance_to_cluster(cluster_center_x_y))"
   ]
  },
  {
   "cell_type": "code",
   "execution_count": 53,
   "id": "67b47892",
   "metadata": {},
   "outputs": [
    {
     "data": {
      "text/plain": [
       "39"
      ]
     },
     "execution_count": 53,
     "metadata": {},
     "output_type": "execute_result"
    }
   ],
   "source": [
    "len(lst_of_distance_from_cluster)"
   ]
  },
  {
   "cell_type": "code",
   "execution_count": 54,
   "id": "54a94c77",
   "metadata": {},
   "outputs": [],
   "source": [
    "del final_results_outlier['index']"
   ]
  },
  {
   "cell_type": "code",
   "execution_count": 55,
   "id": "32a03ef4",
   "metadata": {},
   "outputs": [],
   "source": [
    "centers_df  = pd.DataFrame(lst_of_distance_from_cluster).transpose()\n",
    "centers_df.columns = final_results_without_outlier.cluster_id.unique().tolist()"
   ]
  },
  {
   "cell_type": "code",
   "execution_count": 57,
   "id": "e5b4b2c5",
   "metadata": {},
   "outputs": [
    {
     "name": "stderr",
     "output_type": "stream",
     "text": [
      "/var/folders/5l/l5lg6hfx2992d_rsbxhvt0wc0000gn/T/ipykernel_86313/962600326.py:6: UserWarning: No data for colormapping provided via 'c'. Parameters 'cmap' will be ignored\n",
      "  ax1.scatter(clusers_center['x_coord'], clusers_center['y_coord'], cmap=plt.cm.hsv, label='cluster centers')\n",
      "/var/folders/5l/l5lg6hfx2992d_rsbxhvt0wc0000gn/T/ipykernel_86313/962600326.py:7: UserWarning: No data for colormapping provided via 'c'. Parameters 'cmap' will be ignored\n",
      "  ax1.scatter(final_results_outlier['x_coord'], final_results_outlier['y_coord'], cmap=plt.cm.hsv, label='outliers')\n"
     ]
    },
    {
     "data": {
      "text/plain": [
       "<matplotlib.legend.Legend at 0x2909a6a70>"
      ]
     },
     "execution_count": 57,
     "metadata": {},
     "output_type": "execute_result"
    },
    {
     "data": {
      "image/png": "[encoded data removed]",
      "text/plain": [
       "<Figure size 640x480 with 1 Axes>"
      ]
     },
     "metadata": {},
     "output_type": "display_data"
    }
   ],
   "source": [
    "# See the ouliers and the center of accpted clusters\n",
    "\n",
    "fig = plt.figure()\n",
    "ax1 = fig.add_subplot(111)\n",
    "\n",
    "ax1.scatter(clusers_center['x_coord'], clusers_center['y_coord'], cmap=plt.cm.hsv, label='cluster centers')\n",
    "ax1.scatter(final_results_outlier['x_coord'], final_results_outlier['y_coord'], cmap=plt.cm.hsv, label='outliers')\n",
    "plt.legend(loc='upper left')"
   ]
  },
  {
   "cell_type": "code",
   "execution_count": 58,
   "id": "d46af401",
   "metadata": {},
   "outputs": [],
   "source": [
    "# Now we want to assign the outliers to their nearest cluster"
   ]
  },
  {
   "cell_type": "code",
   "execution_count": 59,
   "id": "ba91684a",
   "metadata": {},
   "outputs": [
    {
     "data": {
      "text/plain": [
       "array([ 0,  1,  2,  3,  4,  5,  6,  7,  8,  9, 10, 12, 13, 14, 15, 16, 17,\n",
       "       18, 19, 20, 21, 24, 27, 28, 29, 30, 31, 32, 34, 36, 37, 38, 39, 40,\n",
       "       41, 42, 44, 45, 46])"
      ]
     },
     "execution_count": 59,
     "metadata": {},
     "output_type": "execute_result"
    }
   ],
   "source": [
    "# We extract accepted cluster IDs\n",
    "\n",
    "index = final_results_without_outlier['cluster_id'].unique()\n",
    "index"
   ]
  },
  {
   "cell_type": "code",
   "execution_count": 60,
   "id": "4633575b",
   "metadata": {},
   "outputs": [
    {
     "data": {
      "text/plain": [
       "array([ 0,  1,  2,  3,  4,  5,  6,  7,  8,  9, 10, 11, 12, 13, 14, 15, 16,\n",
       "       17, 18, 19, 20, 21, 22, 23, 24, 25, 26, 27, 28, 29, 30, 31, 32, 33,\n",
       "       34, 35, 36, 37, 38])"
      ]
     },
     "execution_count": 60,
     "metadata": {},
     "output_type": "execute_result"
    }
   ],
   "source": [
    "# We generate numbers from 0 to length of number of cluster-1 to have uniform index\n",
    "\n",
    "index_of_index = np.array([i for i in range(len(index))])\n",
    "index_of_index"
   ]
  },
  {
   "cell_type": "code",
   "execution_count": 61,
   "id": "efe58e50",
   "metadata": {},
   "outputs": [],
   "source": [
    "# We combine the index and generated index to be extracted next\n",
    "\n",
    "combined_index = np.stack((index_of_index, index), axis=1)"
   ]
  },
  {
   "cell_type": "code",
   "execution_count": 62,
   "id": "237a265c",
   "metadata": {},
   "outputs": [],
   "source": [
    "# Check the number of points in each accepted cluster and save them\n",
    "\n",
    "lst_len_acc_clusters = []\n",
    "for i in index:\n",
    "    lst_len_acc_clusters.append(len(final_results_without_outlier[final_results_without_outlier['cluster_id'] == i]))"
   ]
  },
  {
   "cell_type": "code",
   "execution_count": 63,
   "id": "5ad0c956",
   "metadata": {},
   "outputs": [],
   "source": [
    "# Make index for each value of list of cluster lenghts\n",
    "\n",
    "combined_index_with_size_of_clusters = np.stack((index_of_index, lst_len_acc_clusters), axis=1)\n",
    "# combined_index_with_size_of_clusters"
   ]
  },
  {
   "cell_type": "code",
   "execution_count": 64,
   "id": "0d894053",
   "metadata": {},
   "outputs": [],
   "source": [
    "# We assign the outliers to their nearest cluster while the cluster is filled with max_cluster_size_const no. of customers\n",
    "\n",
    "\n",
    "new_index_of_outlier = {}\n",
    "i = 0\n",
    "while i < len(centers_df):\n",
    "    \n",
    "    idx = centers_df.loc[i, :].values.tolist().index(min(centers_df.loc[i, :].values.tolist()))\n",
    "    \n",
    "#    initial_idx = combined_index[idx][1]\n",
    "    \n",
    "    if combined_index_with_size_of_clusters[idx][1] <= max_cluster_size_const:\n",
    "        \n",
    "        new_index_of_outlier[i] = combined_index_with_size_of_clusters[idx][0]\n",
    "        combined_index_with_size_of_clusters[idx][1] += 1\n",
    "        i += 1\n",
    "        \n",
    "    else:  \n",
    "        centers_df = centers_df.drop(centers_df.columns[[idx]], axis=1)"
   ]
  },
  {
   "cell_type": "code",
   "execution_count": 65,
   "id": "d4398068",
   "metadata": {},
   "outputs": [],
   "source": [
    "# Dictionary to dataframe\n",
    "\n",
    "dict_to_list = list(new_index_of_outlier.items())\n",
    "new_cluster_of_outlier = pd.DataFrame(dict_to_list,columns=['index','initial cluster'])\n",
    "# new_cluster_of_outlier"
   ]
  },
  {
   "cell_type": "code",
   "execution_count": 66,
   "id": "750c9197",
   "metadata": {},
   "outputs": [],
   "source": [
    "# Replace the made cluster IDs (index) with their actual value\n",
    "\n",
    "for i in range(len(new_cluster_of_outlier)):\n",
    "    new_cluster_of_outlier.iloc[i, 1] = combined_index[new_cluster_of_outlier.iloc[i, 1]][1]"
   ]
  },
  {
   "cell_type": "code",
   "execution_count": 68,
   "id": "11c5d65c",
   "metadata": {},
   "outputs": [],
   "source": [
    "# Add the clusters to the points (lon, lat)\n",
    "\n",
    "final_results_outlier = final_results_outlier.reset_index().merge(new_cluster_of_outlier, on = ['index'], how = 'left')\n",
    "\n",
    "del final_results_outlier['index']\n",
    "del final_results_outlier['cluster_id']"
   ]
  },
  {
   "cell_type": "code",
   "execution_count": 69,
   "id": "b3461531",
   "metadata": {},
   "outputs": [],
   "source": [
    "final_results_outlier.columns = ['y_coord', 'x_coord', 'cluster_id']"
   ]
  },
  {
   "cell_type": "code",
   "execution_count": 70,
   "id": "f9dde984",
   "metadata": {},
   "outputs": [],
   "source": [
    "# Combine accepted clusters with handled outliers\n",
    "\n",
    "df_final = pd.concat([final_results_without_outlier,final_results_outlier], ignore_index=True)"
   ]
  },
  {
   "cell_type": "code",
   "execution_count": 71,
   "id": "a3b0f81c",
   "metadata": {},
   "outputs": [
    {
     "data": {
      "image/png": "[encoded data removed]",
      "text/plain": [
       "<Figure size 640x480 with 1 Axes>"
      ]
     },
     "metadata": {},
     "output_type": "display_data"
    }
   ],
   "source": [
    "# See Final Clusters on the map and save them\n",
    "plt.scatter(df_final['x_coord'], df_final['y_coord'],c=df_final['cluster_id'], cmap=plt.cm.hsv)\n",
    "plt.xlabel('X Coordinate')\n",
    "plt.ylabel('Y Coordinate')\n",
    "plt.savefig(\"output.png\")"
   ]
  },
  {
   "cell_type": "code",
   "execution_count": 73,
   "id": "f7364308",
   "metadata": {},
   "outputs": [],
   "source": [
    "# change the column name to be joined\n",
    "\n",
    "df.columns = ['CUST NO.', 'x_coord', 'y_coord', 'DEMAND', 'READY TIME', 'DUE DATE',\n",
    "       'SERVICE   TIME']\n",
    "\n",
    "\n",
    "data_to_be_saved = pd.merge(df,             # Combine horizontally\n",
    "                           df_final,\n",
    "                           on = ['x_coord', 'y_coord'],\n",
    "                           how = \"left\").drop_duplicates()"
   ]
  },
  {
   "cell_type": "code",
   "execution_count": 75,
   "id": "fd19a3ca",
   "metadata": {},
   "outputs": [],
   "source": [
    "data_to_be_saved.to_csv('clustering_results.csv')"
   ]
  }
 ],
 "metadata": {
  "kernelspec": {
   "display_name": "Python 3 (ipykernel)",
   "language": "python",
   "name": "python3"
  },
  "language_info": {
   "codemirror_mode": {
    "name": "ipython",
    "version": 3
   },
   "file_extension": ".py",
   "mimetype": "text/x-python",
   "name": "python",
   "nbconvert_exporter": "python",
   "pygments_lexer": "ipython3",
   "version": "3.10.9"
  }
 },
 "nbformat": 4,
 "nbformat_minor": 5
}
